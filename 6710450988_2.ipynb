{
 "cells": [
  {
   "cell_type": "markdown",
   "id": "d5a84c25-5dd2-4e1c-9610-0f32b929ab11",
   "metadata": {
    "id": "d5a84c25-5dd2-4e1c-9610-0f32b929ab11"
   },
   "source": [
    "# แบบฝึกหัด 2"
   ]
  },
  {
   "cell_type": "markdown",
   "id": "1de1213a-1891-4a0f-a326-f4b41157e2a2",
   "metadata": {
    "id": "1de1213a-1891-4a0f-a326-f4b41157e2a2"
   },
   "source": [
    "---"
   ]
  },
  {
   "cell_type": "markdown",
   "id": "0b2de3e5-4ca7-4040-b266-c6d233ec55b9",
   "metadata": {
    "id": "0b2de3e5-4ca7-4040-b266-c6d233ec55b9"
   },
   "source": [
    "จากข้อมูล titanic.csv ให้ทำการวิเคราะห์ข้อมูลเบื้องต้นเกี่ยวกับคอลัมน์ cabin  \n",
    "โดยแผนภาพด้านล่างนี้เป็นตำแหน่งของ cabin ตามตัวอักษรตัวแรกของรหัส cabin ที่บันทึกในชุดข้อมูล"
   ]
  },
  {
   "cell_type": "markdown",
   "id": "37cf63dc-319c-4178-9d4e-7b68cb920496",
   "metadata": {
    "id": "37cf63dc-319c-4178-9d4e-7b68cb920496"
   },
   "source": [
    "![titanic-cabin](https://upload.wikimedia.org/wikipedia/commons/thumb/0/0d/Olympic_%26_Titanic_cutaway_diagram.png/800px-Olympic_%26_Titanic_cutaway_diagram.png)"
   ]
  },
  {
   "cell_type": "markdown",
   "id": "2c29c391-d34e-4e5b-832b-8309cc048e38",
   "metadata": {
    "id": "2c29c391-d34e-4e5b-832b-8309cc048e38"
   },
   "source": [
    "ให้นิสิตสร้างคอลัมน์เพิ่ม โดยคอลัมน์ที่เพิ่มมานี้ จะเก็บข้อมูลของตัวอักษรตัวแรกที่ปรากฏในคอลัมน์ Cabin เช่น  \n",
    "- หากในคอลัมน์ Cabin เป็นค่า \"C123\" ในคอลัมน์ที่สร้างจะบันทึก \"C\"  \n",
    "- หากในคอลัมน์ Cabin เป็นค่า \"C23 C25 C27\" ในคอลัมน์ที่สร้างจะบันทึก \"C\"\n",
    "- หากในคอลัมน์ Cabin เป็นค่า \"B58 B60 C2\" ในคอลัมน์ที่สร้างจะบันทึก \"B\"\n",
    "- หากในคอลัมน์ Cabin เป็นค่า \"F2\" ในคอลัมน์ที่สร้างจะบันทึก \"F\"\n",
    "- หากในคอลัมน์ Cabin เป็นค่า NaN ในคอลัมน์ที่สร้างจะบันทึก NaN"
   ]
  },
  {
   "cell_type": "markdown",
   "id": "aae120b9-b64f-4dad-ae93-003c5a5d0ada",
   "metadata": {
    "id": "aae120b9-b64f-4dad-ae93-003c5a5d0ada"
   },
   "source": [
    "จากนั้นให้นิสิตเขียนโค้ดเพื่อตอบคำถามในแต่ละข้อ"
   ]
  },
  {
   "cell_type": "code",
   "execution_count": 1,
   "id": "8bca888a-443e-49fa-8e1e-3be829633c05",
   "metadata": {
    "executionInfo": {
     "elapsed": 650,
     "status": "ok",
     "timestamp": 1733209718952,
     "user": {
      "displayName": "Thammakorn SAETHANG",
      "userId": "08182570455347153646"
     },
     "user_tz": -420
    },
    "id": "8bca888a-443e-49fa-8e1e-3be829633c05"
   },
   "outputs": [],
   "source": [
    "import numpy as np\n",
    "import pandas as pd"
   ]
  },
  {
   "cell_type": "code",
   "execution_count": 2,
   "id": "3a2c0f7f-f675-427e-8dab-5ce08d8fbf78",
   "metadata": {
    "colab": {
     "base_uri": "https://localhost:8080/",
     "height": 327
    },
    "executionInfo": {
     "elapsed": 361,
     "status": "ok",
     "timestamp": 1733209721568,
     "user": {
      "displayName": "Thammakorn SAETHANG",
      "userId": "08182570455347153646"
     },
     "user_tz": -420
    },
    "id": "3a2c0f7f-f675-427e-8dab-5ce08d8fbf78",
    "outputId": "6d6403c5-e11c-4d85-b45e-b6034f6854b5"
   },
   "outputs": [
    {
     "data": {
      "text/html": [
       "<div>\n",
       "<style scoped>\n",
       "    .dataframe tbody tr th:only-of-type {\n",
       "        vertical-align: middle;\n",
       "    }\n",
       "\n",
       "    .dataframe tbody tr th {\n",
       "        vertical-align: top;\n",
       "    }\n",
       "\n",
       "    .dataframe thead th {\n",
       "        text-align: right;\n",
       "    }\n",
       "</style>\n",
       "<table border=\"1\" class=\"dataframe\">\n",
       "  <thead>\n",
       "    <tr style=\"text-align: right;\">\n",
       "      <th></th>\n",
       "      <th>PassengerId</th>\n",
       "      <th>Survived</th>\n",
       "      <th>Pclass</th>\n",
       "      <th>Name</th>\n",
       "      <th>Sex</th>\n",
       "      <th>Age</th>\n",
       "      <th>SibSp</th>\n",
       "      <th>Parch</th>\n",
       "      <th>Ticket</th>\n",
       "      <th>Fare</th>\n",
       "      <th>Cabin</th>\n",
       "      <th>Embarked</th>\n",
       "    </tr>\n",
       "  </thead>\n",
       "  <tbody>\n",
       "    <tr>\n",
       "      <th>0</th>\n",
       "      <td>1</td>\n",
       "      <td>0</td>\n",
       "      <td>3</td>\n",
       "      <td>Braund, Mr. Owen Harris</td>\n",
       "      <td>male</td>\n",
       "      <td>22.0</td>\n",
       "      <td>1</td>\n",
       "      <td>0</td>\n",
       "      <td>A/5 21171</td>\n",
       "      <td>7.2500</td>\n",
       "      <td>NaN</td>\n",
       "      <td>S</td>\n",
       "    </tr>\n",
       "    <tr>\n",
       "      <th>1</th>\n",
       "      <td>2</td>\n",
       "      <td>1</td>\n",
       "      <td>1</td>\n",
       "      <td>Cumings, Mrs. John Bradley (Florence Briggs Th...</td>\n",
       "      <td>female</td>\n",
       "      <td>38.0</td>\n",
       "      <td>1</td>\n",
       "      <td>0</td>\n",
       "      <td>PC 17599</td>\n",
       "      <td>71.2833</td>\n",
       "      <td>C85</td>\n",
       "      <td>C</td>\n",
       "    </tr>\n",
       "    <tr>\n",
       "      <th>2</th>\n",
       "      <td>3</td>\n",
       "      <td>1</td>\n",
       "      <td>3</td>\n",
       "      <td>Heikkinen, Miss. Laina</td>\n",
       "      <td>female</td>\n",
       "      <td>26.0</td>\n",
       "      <td>0</td>\n",
       "      <td>0</td>\n",
       "      <td>STON/O2. 3101282</td>\n",
       "      <td>7.9250</td>\n",
       "      <td>NaN</td>\n",
       "      <td>S</td>\n",
       "    </tr>\n",
       "    <tr>\n",
       "      <th>3</th>\n",
       "      <td>4</td>\n",
       "      <td>1</td>\n",
       "      <td>1</td>\n",
       "      <td>Futrelle, Mrs. Jacques Heath (Lily May Peel)</td>\n",
       "      <td>female</td>\n",
       "      <td>35.0</td>\n",
       "      <td>1</td>\n",
       "      <td>0</td>\n",
       "      <td>113803</td>\n",
       "      <td>53.1000</td>\n",
       "      <td>C123</td>\n",
       "      <td>S</td>\n",
       "    </tr>\n",
       "    <tr>\n",
       "      <th>4</th>\n",
       "      <td>5</td>\n",
       "      <td>0</td>\n",
       "      <td>3</td>\n",
       "      <td>Allen, Mr. William Henry</td>\n",
       "      <td>male</td>\n",
       "      <td>35.0</td>\n",
       "      <td>0</td>\n",
       "      <td>0</td>\n",
       "      <td>373450</td>\n",
       "      <td>8.0500</td>\n",
       "      <td>NaN</td>\n",
       "      <td>S</td>\n",
       "    </tr>\n",
       "  </tbody>\n",
       "</table>\n",
       "</div>"
      ],
      "text/plain": [
       "   PassengerId  Survived  Pclass  \\\n",
       "0            1         0       3   \n",
       "1            2         1       1   \n",
       "2            3         1       3   \n",
       "3            4         1       1   \n",
       "4            5         0       3   \n",
       "\n",
       "                                                Name     Sex   Age  SibSp  \\\n",
       "0                            Braund, Mr. Owen Harris    male  22.0      1   \n",
       "1  Cumings, Mrs. John Bradley (Florence Briggs Th...  female  38.0      1   \n",
       "2                             Heikkinen, Miss. Laina  female  26.0      0   \n",
       "3       Futrelle, Mrs. Jacques Heath (Lily May Peel)  female  35.0      1   \n",
       "4                           Allen, Mr. William Henry    male  35.0      0   \n",
       "\n",
       "   Parch            Ticket     Fare Cabin Embarked  \n",
       "0      0         A/5 21171   7.2500   NaN        S  \n",
       "1      0          PC 17599  71.2833   C85        C  \n",
       "2      0  STON/O2. 3101282   7.9250   NaN        S  \n",
       "3      0            113803  53.1000  C123        S  \n",
       "4      0            373450   8.0500   NaN        S  "
      ]
     },
     "execution_count": 2,
     "metadata": {},
     "output_type": "execute_result"
    }
   ],
   "source": [
    "df = pd.read_csv(\"https://raw.githubusercontent.com/ThammakornS/ProgStat/main/dataset/titanic.csv\")\n",
    "df.head()"
   ]
  },
  {
   "cell_type": "markdown",
   "id": "a22810d5-b0e3-47d8-95b9-c45da2cc085e",
   "metadata": {
    "id": "a22810d5-b0e3-47d8-95b9-c45da2cc085e"
   },
   "source": [
    "นิสิตแสดงวิธีสร้างคอลัมน์"
   ]
  },
  {
   "cell_type": "code",
   "execution_count": 3,
   "id": "1020deae-43bd-46f1-aa35-3f979ecfbf91",
   "metadata": {
    "id": "1020deae-43bd-46f1-aa35-3f979ecfbf91"
   },
   "outputs": [],
   "source": [
    "#your code\n",
    "df['cabin_letter'] = df.Cabin.str.get(0)\n"
   ]
  },
  {
   "cell_type": "markdown",
   "id": "46afd374-6101-4afe-9bf3-c7b0c3d97c61",
   "metadata": {
    "id": "46afd374-6101-4afe-9bf3-c7b0c3d97c61"
   },
   "source": [
    "1. ในแต่ละตัวอักษร Cabin มีจำนวนผู้โดยสารกี่คน และมีจำนวน NaN เท่าไหร่"
   ]
  },
  {
   "cell_type": "code",
   "execution_count": 4,
   "id": "0484cb7d-29b4-44f1-90f5-16fef7266314",
   "metadata": {
    "id": "0484cb7d-29b4-44f1-90f5-16fef7266314",
    "tags": []
   },
   "outputs": [
    {
     "data": {
      "text/plain": [
       "cabin_letter\n",
       "NaN    687\n",
       "C       59\n",
       "B       47\n",
       "D       33\n",
       "E       32\n",
       "A       15\n",
       "F       13\n",
       "G        4\n",
       "T        1\n",
       "Name: count, dtype: int64"
      ]
     },
     "execution_count": 4,
     "metadata": {},
     "output_type": "execute_result"
    }
   ],
   "source": [
    "C_df = df['cabin_letter'].value_counts(dropna=False)\n",
    "C_df"
   ]
  },
  {
   "cell_type": "markdown",
   "id": "57a7dce3-b43f-42ac-ba6d-8219ff953804",
   "metadata": {
    "id": "57a7dce3-b43f-42ac-ba6d-8219ff953804"
   },
   "source": [
    "2. ในแต่ละตัวอักษร Cabin มีจำนวนผู้โดยสารที่รอดและเสียชีวิตอย่างละเท่าไหร่ cabin ใดมีจำนวนผู้เสียชีวิตมากที่สุด"
   ]
  },
  {
   "cell_type": "code",
   "execution_count": null,
   "id": "716596c4-e25a-4ff4-be66-f0c7d17a315b",
   "metadata": {
    "id": "716596c4-e25a-4ff4-be66-f0c7d17a315b"
   },
   "outputs": [
    {
     "data": {
      "text/plain": [
       "<pandas.core.groupby.generic.SeriesGroupBy object at 0x00000210080E4190>"
      ]
     },
     "metadata": {},
     "output_type": "display_data"
    }
   ],
   "source": [
    "df_ct = pd.crosstab(df.cabin_letter, df.Survived, margins=False)\n",
    "df_ct #C มีจำนวนผู้เสียชีวิตเยอะสุด"
   ]
  },
  {
   "cell_type": "markdown",
   "id": "ffe01048-7001-44ed-a318-f46c79e49fb8",
   "metadata": {
    "id": "ffe01048-7001-44ed-a318-f46c79e49fb8"
   },
   "source": [
    "3. cabin ใดมีค่า สัดส่วน จำนวนผู้รอดชีวิตหารด้วยจำนวนผู้เสียชีวิต สูงสุด"
   ]
  },
  {
   "cell_type": "code",
   "execution_count": 6,
   "id": "f38c0470-9acf-491d-8233-32acc258714d",
   "metadata": {
    "id": "f38c0470-9acf-491d-8233-32acc258714d"
   },
   "outputs": [
    {
     "data": {
      "text/plain": [
       "cabin_letter\n",
       "A    0.875000\n",
       "B    2.916667\n",
       "C    1.458333\n",
       "D    3.125000\n",
       "E    3.000000\n",
       "F    1.600000\n",
       "G    1.000000\n",
       "T    0.000000\n",
       "dtype: float64"
      ]
     },
     "execution_count": 6,
     "metadata": {},
     "output_type": "execute_result"
    }
   ],
   "source": [
    "surv_div_death = df_ct[1]/df_ct[0]\n",
    "surv_div_death #D มีค่าสัดส่วนจำนวนผู้รอดชีวิตหารด้วยจำนวนผู้เสียชีวิตสูงสุด"
   ]
  },
  {
   "cell_type": "markdown",
   "id": "e2069dfd-233b-4979-83dd-b2408928d1d1",
   "metadata": {
    "id": "e2069dfd-233b-4979-83dd-b2408928d1d1"
   },
   "source": [
    "4. cabin ใดมีค่าเฉลี่ยราคาตั๋ว (Fare) สูงสุด"
   ]
  },
  {
   "cell_type": "code",
   "execution_count": 38,
   "id": "ad74e21d-2d51-467d-8e90-c41d61d76c52",
   "metadata": {
    "id": "ad74e21d-2d51-467d-8e90-c41d61d76c52"
   },
   "outputs": [
    {
     "data": {
      "text/plain": [
       "cabin_letter\n",
       "B    113.505764\n",
       "Name: Fare, dtype: float64"
      ]
     },
     "metadata": {},
     "output_type": "display_data"
    }
   ],
   "source": [
    "CxF = df.groupby('cabin_letter')['Fare'].mean().sort_values().tail(1)\n",
    "display(CxF)\n",
    "#cabin B มีค่าเฉลี่ยตั๋วสูงสุด"
   ]
  },
  {
   "cell_type": "markdown",
   "id": "629756d5-c13f-45e9-96d4-a26457fc61b7",
   "metadata": {
    "id": "629756d5-c13f-45e9-96d4-a26457fc61b7"
   },
   "source": [
    "5. จงแสดงค่าเฉลี่ยราคาตั๋ว (Fare) ของผู้รอดชีวิต และผู้เสียชีวิต ในแต่ละ cabin หากเปรียบเทียบราคาเฉลี่ยของผู้ที่รอดและเสียชีวิตจะพบว่า"
   ]
  },
  {
   "cell_type": "code",
   "execution_count": 14,
   "id": "cbd636f4-6aa5-4766-8bd1-5eae44209c86",
   "metadata": {
    "id": "cbd636f4-6aa5-4766-8bd1-5eae44209c86"
   },
   "outputs": [
    {
     "data": {
      "text/plain": [
       "cabin_letter  Survived\n",
       "A             0            35.496350\n",
       "              1            44.341071\n",
       "B             0            57.137500\n",
       "              1           132.832026\n",
       "C             0            99.972396\n",
       "              1           100.274046\n",
       "D             0            53.770825\n",
       "              1            58.356176\n",
       "E             0            43.715625\n",
       "              1            46.797050\n",
       "F             0            11.340000\n",
       "              1            23.294787\n",
       "G             0            10.462500\n",
       "              1            16.700000\n",
       "T             0            35.500000\n",
       "Name: Fare, dtype: float64"
      ]
     },
     "execution_count": 14,
     "metadata": {},
     "output_type": "execute_result"
    }
   ],
   "source": [
    "df.groupby(['cabin_letter', 'Survived'])['Fare'].mean() \n",
    "#จะพบว่าผู้รอดชีวิตจะมีอัตราการจ่ายค่าตัวเฉลี่ยเยอะกว่าผู้รอดชีวิตใน Cabin เดียวกัน"
   ]
  },
  {
   "cell_type": "markdown",
   "id": "d88f552b-3d5d-45ed-b821-e27655e25115",
   "metadata": {
    "id": "d88f552b-3d5d-45ed-b821-e27655e25115"
   },
   "source": [
    "6. ในแต่ละอักษร cabin มีจำนวนผู้โดยสารแยกตาม Pclass อย่างละกี่คน"
   ]
  },
  {
   "cell_type": "code",
   "execution_count": 13,
   "id": "be145608-4da3-4dac-8ca1-35ef78518366",
   "metadata": {
    "id": "be145608-4da3-4dac-8ca1-35ef78518366"
   },
   "outputs": [
    {
     "data": {
      "text/html": [
       "<div>\n",
       "<style scoped>\n",
       "    .dataframe tbody tr th:only-of-type {\n",
       "        vertical-align: middle;\n",
       "    }\n",
       "\n",
       "    .dataframe tbody tr th {\n",
       "        vertical-align: top;\n",
       "    }\n",
       "\n",
       "    .dataframe thead th {\n",
       "        text-align: right;\n",
       "    }\n",
       "</style>\n",
       "<table border=\"1\" class=\"dataframe\">\n",
       "  <thead>\n",
       "    <tr style=\"text-align: right;\">\n",
       "      <th>Pclass</th>\n",
       "      <th>1</th>\n",
       "      <th>2</th>\n",
       "      <th>3</th>\n",
       "    </tr>\n",
       "    <tr>\n",
       "      <th>cabin_letter</th>\n",
       "      <th></th>\n",
       "      <th></th>\n",
       "      <th></th>\n",
       "    </tr>\n",
       "  </thead>\n",
       "  <tbody>\n",
       "    <tr>\n",
       "      <th>A</th>\n",
       "      <td>15</td>\n",
       "      <td>0</td>\n",
       "      <td>0</td>\n",
       "    </tr>\n",
       "    <tr>\n",
       "      <th>B</th>\n",
       "      <td>47</td>\n",
       "      <td>0</td>\n",
       "      <td>0</td>\n",
       "    </tr>\n",
       "    <tr>\n",
       "      <th>C</th>\n",
       "      <td>59</td>\n",
       "      <td>0</td>\n",
       "      <td>0</td>\n",
       "    </tr>\n",
       "    <tr>\n",
       "      <th>D</th>\n",
       "      <td>29</td>\n",
       "      <td>4</td>\n",
       "      <td>0</td>\n",
       "    </tr>\n",
       "    <tr>\n",
       "      <th>E</th>\n",
       "      <td>25</td>\n",
       "      <td>4</td>\n",
       "      <td>3</td>\n",
       "    </tr>\n",
       "    <tr>\n",
       "      <th>F</th>\n",
       "      <td>0</td>\n",
       "      <td>8</td>\n",
       "      <td>5</td>\n",
       "    </tr>\n",
       "    <tr>\n",
       "      <th>G</th>\n",
       "      <td>0</td>\n",
       "      <td>0</td>\n",
       "      <td>4</td>\n",
       "    </tr>\n",
       "    <tr>\n",
       "      <th>T</th>\n",
       "      <td>1</td>\n",
       "      <td>0</td>\n",
       "      <td>0</td>\n",
       "    </tr>\n",
       "  </tbody>\n",
       "</table>\n",
       "</div>"
      ],
      "text/plain": [
       "Pclass         1  2  3\n",
       "cabin_letter          \n",
       "A             15  0  0\n",
       "B             47  0  0\n",
       "C             59  0  0\n",
       "D             29  4  0\n",
       "E             25  4  3\n",
       "F              0  8  5\n",
       "G              0  0  4\n",
       "T              1  0  0"
      ]
     },
     "execution_count": 13,
     "metadata": {},
     "output_type": "execute_result"
    }
   ],
   "source": [
    "cabin_Pclass_ct = pd.crosstab(df.cabin_letter, df.Pclass)\n",
    "cabin_Pclass_ct"
   ]
  }
 ],
 "metadata": {
  "colab": {
   "provenance": []
  },
  "kernelspec": {
   "display_name": "pstat13",
   "language": "python",
   "name": "python3"
  },
  "language_info": {
   "codemirror_mode": {
    "name": "ipython",
    "version": 3
   },
   "file_extension": ".py",
   "mimetype": "text/x-python",
   "name": "python",
   "nbconvert_exporter": "python",
   "pygments_lexer": "ipython3",
   "version": "3.13.0"
  }
 },
 "nbformat": 4,
 "nbformat_minor": 5
}
