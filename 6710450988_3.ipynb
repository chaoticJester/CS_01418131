{
 "cells": [
  {
   "cell_type": "markdown",
   "metadata": {
    "id": "U3ArbMi8JHGD"
   },
   "source": [
    "# แบบฝึกหัด 3"
   ]
  },
  {
   "cell_type": "markdown",
   "metadata": {
    "id": "t9RQYuu-JUwP"
   },
   "source": [
    "---"
   ]
  },
  {
   "cell_type": "code",
   "execution_count": 1,
   "metadata": {
    "id": "5LcuhePsgM1w"
   },
   "outputs": [],
   "source": [
    "import numpy as np\n",
    "import pandas as pd\n",
    "import statistics"
   ]
  },
  {
   "cell_type": "markdown",
   "metadata": {
    "id": "uoKssbJRv2Xu"
   },
   "source": [
    "###  "
   ]
  },
  {
   "cell_type": "markdown",
   "metadata": {
    "id": "O-jANK7-JY2X"
   },
   "source": [
    "3.1 บริษัทให้บริการด้าน IT ครบวงจรแห่งหนึ่งได้เก็บรวบรวมข้อมูลค่าซ่อมบำรุงอุปกรณ์คอมพิวเตอร์แม่ข่ายและจำนวนลูกค้าของบริษัทในปีที่ผ่านมาเป็นดังไฟล์ asm3_1_itcost.csv  \n",
    "จงแสดงวิธีหาค่ามัธยฐานและฐานนิยมของค่าซ่อมบำรุงอุปกรณ์คอมพิวเตอร์แม่ข่าย"
   ]
  },
  {
   "cell_type": "code",
   "execution_count": 2,
   "metadata": {
    "colab": {
     "base_uri": "https://localhost:8080/",
     "height": 206
    },
    "executionInfo": {
     "elapsed": 364,
     "status": "ok",
     "timestamp": 1702901672083,
     "user": {
      "displayName": "Thammakorn SAETHANG",
      "userId": "08182570455347153646"
     },
     "user_tz": -420
    },
    "id": "HVfgMVlcI_hm",
    "outputId": "a2676941-9a96-4bc5-f153-75a0da03a182"
   },
   "outputs": [
    {
     "data": {
      "text/html": [
       "<div>\n",
       "<style scoped>\n",
       "    .dataframe tbody tr th:only-of-type {\n",
       "        vertical-align: middle;\n",
       "    }\n",
       "\n",
       "    .dataframe tbody tr th {\n",
       "        vertical-align: top;\n",
       "    }\n",
       "\n",
       "    .dataframe thead th {\n",
       "        text-align: right;\n",
       "    }\n",
       "</style>\n",
       "<table border=\"1\" class=\"dataframe\">\n",
       "  <thead>\n",
       "    <tr style=\"text-align: right;\">\n",
       "      <th></th>\n",
       "      <th>maintenance_cost</th>\n",
       "      <th>num_customer</th>\n",
       "    </tr>\n",
       "  </thead>\n",
       "  <tbody>\n",
       "    <tr>\n",
       "      <th>0</th>\n",
       "      <td>&lt;=5000</td>\n",
       "      <td>33</td>\n",
       "    </tr>\n",
       "    <tr>\n",
       "      <th>1</th>\n",
       "      <td>5001-10000</td>\n",
       "      <td>41</td>\n",
       "    </tr>\n",
       "    <tr>\n",
       "      <th>2</th>\n",
       "      <td>10001-15000</td>\n",
       "      <td>20</td>\n",
       "    </tr>\n",
       "    <tr>\n",
       "      <th>3</th>\n",
       "      <td>15001-20000</td>\n",
       "      <td>17</td>\n",
       "    </tr>\n",
       "    <tr>\n",
       "      <th>4</th>\n",
       "      <td>20001-25000</td>\n",
       "      <td>10</td>\n",
       "    </tr>\n",
       "  </tbody>\n",
       "</table>\n",
       "</div>"
      ],
      "text/plain": [
       "  maintenance_cost  num_customer\n",
       "0           <=5000            33\n",
       "1       5001-10000            41\n",
       "2      10001-15000            20\n",
       "3      15001-20000            17\n",
       "4      20001-25000            10"
      ]
     },
     "execution_count": 2,
     "metadata": {},
     "output_type": "execute_result"
    }
   ],
   "source": [
    "df_it = pd.read_csv('https://raw.githubusercontent.com/ThammakornS/ProgStat/main/dataset/asm3_1_itcost.csv')\n",
    "df_it.head()"
   ]
  },
  {
   "cell_type": "code",
   "execution_count": 3,
   "metadata": {},
   "outputs": [
    {
     "data": {
      "text/html": [
       "<div>\n",
       "<style scoped>\n",
       "    .dataframe tbody tr th:only-of-type {\n",
       "        vertical-align: middle;\n",
       "    }\n",
       "\n",
       "    .dataframe tbody tr th {\n",
       "        vertical-align: top;\n",
       "    }\n",
       "\n",
       "    .dataframe thead th {\n",
       "        text-align: right;\n",
       "    }\n",
       "</style>\n",
       "<table border=\"1\" class=\"dataframe\">\n",
       "  <thead>\n",
       "    <tr style=\"text-align: right;\">\n",
       "      <th></th>\n",
       "      <th>maintenance_cost</th>\n",
       "      <th>num_customer</th>\n",
       "      <th>num_customer_cumsum</th>\n",
       "    </tr>\n",
       "  </thead>\n",
       "  <tbody>\n",
       "    <tr>\n",
       "      <th>0</th>\n",
       "      <td>&lt;=5000</td>\n",
       "      <td>33</td>\n",
       "      <td>33</td>\n",
       "    </tr>\n",
       "    <tr>\n",
       "      <th>1</th>\n",
       "      <td>5001-10000</td>\n",
       "      <td>41</td>\n",
       "      <td>74</td>\n",
       "    </tr>\n",
       "    <tr>\n",
       "      <th>2</th>\n",
       "      <td>10001-15000</td>\n",
       "      <td>20</td>\n",
       "      <td>94</td>\n",
       "    </tr>\n",
       "    <tr>\n",
       "      <th>3</th>\n",
       "      <td>15001-20000</td>\n",
       "      <td>17</td>\n",
       "      <td>111</td>\n",
       "    </tr>\n",
       "    <tr>\n",
       "      <th>4</th>\n",
       "      <td>20001-25000</td>\n",
       "      <td>10</td>\n",
       "      <td>121</td>\n",
       "    </tr>\n",
       "    <tr>\n",
       "      <th>5</th>\n",
       "      <td>25001-30000</td>\n",
       "      <td>16</td>\n",
       "      <td>137</td>\n",
       "    </tr>\n",
       "    <tr>\n",
       "      <th>6</th>\n",
       "      <td>&gt;=30001</td>\n",
       "      <td>5</td>\n",
       "      <td>142</td>\n",
       "    </tr>\n",
       "  </tbody>\n",
       "</table>\n",
       "</div>"
      ],
      "text/plain": [
       "  maintenance_cost  num_customer  num_customer_cumsum\n",
       "0           <=5000            33                   33\n",
       "1       5001-10000            41                   74\n",
       "2      10001-15000            20                   94\n",
       "3      15001-20000            17                  111\n",
       "4      20001-25000            10                  121\n",
       "5      25001-30000            16                  137\n",
       "6          >=30001             5                  142"
      ]
     },
     "execution_count": 3,
     "metadata": {},
     "output_type": "execute_result"
    }
   ],
   "source": [
    "df_it['num_customer_cumsum'] = df_it['num_customer'].cumsum()\n",
    "df_it"
   ]
  },
  {
   "cell_type": "code",
   "execution_count": 4,
   "metadata": {
    "id": "7TwxeuVW96Ma"
   },
   "outputs": [
    {
     "name": "stdout",
     "output_type": "stream",
     "text": [
      "9634.646341463415\n"
     ]
    }
   ],
   "source": [
    "#หาMedian\n",
    "Me_posi = df_it['num_customer'].sum() / 2\n",
    "e = 1# ค่า median อยู่ใน index ที่ 1\n",
    "Le = 5000.5\n",
    "median = Le + (((Me_posi - df_it.num_customer_cumsum[e-1]) / df_it.num_customer[e]) * 5000)\n",
    "print(median)"
   ]
  },
  {
   "cell_type": "code",
   "execution_count": 26,
   "metadata": {},
   "outputs": [
    {
     "name": "stdout",
     "output_type": "stream",
     "text": [
      "6379.810344827586\n"
     ]
    }
   ],
   "source": [
    "#หาMode\n",
    "Mo_posi = 1 #ชั้นที่Modeอยูุ่\n",
    "Le = 5000.5\n",
    "d_eminus1 = np.abs(df_it.num_customer[Mo_posi] - df_it.num_customer[Mo_posi - 1])\n",
    "d_eplus1 = np.abs(df_it.num_customer[Mo_posi] - df_it.num_customer[Mo_posi + 1])\n",
    "mode = Le + (d_eminus1 / (d_eminus1 + d_eplus1)) * 5000\n",
    "print(mode)"
   ]
  },
  {
   "cell_type": "markdown",
   "metadata": {
    "id": "BxG0p9G9-qG2"
   },
   "source": [
    "###   "
   ]
  },
  {
   "cell_type": "markdown",
   "metadata": {
    "id": "JTDVG3rksTto"
   },
   "source": [
    "3.2 สุ่มตัวอย่างนักศึกษามาจำนวนหนึ่ง พบว่าคะแนนสอบวิชาสถิติ เป็นดังตาราง 'asm3_2_score.csv' จงหาค่า"
   ]
  },
  {
   "cell_type": "markdown",
   "metadata": {
    "id": "tGs8uJzvy7AY"
   },
   "source": [
    "**3.2.1 ค่าเฉลี่ย**"
   ]
  },
  {
   "cell_type": "code",
   "execution_count": 6,
   "metadata": {
    "colab": {
     "base_uri": "https://localhost:8080/",
     "height": 206
    },
    "executionInfo": {
     "elapsed": 393,
     "status": "ok",
     "timestamp": 1702901704410,
     "user": {
      "displayName": "Thammakorn SAETHANG",
      "userId": "08182570455347153646"
     },
     "user_tz": -420
    },
    "id": "xGfGFa4kvtyH",
    "outputId": "8b46bf09-ece7-4ca2-f464-c4ca3456baef"
   },
   "outputs": [
    {
     "data": {
      "text/html": [
       "<div>\n",
       "<style scoped>\n",
       "    .dataframe tbody tr th:only-of-type {\n",
       "        vertical-align: middle;\n",
       "    }\n",
       "\n",
       "    .dataframe tbody tr th {\n",
       "        vertical-align: top;\n",
       "    }\n",
       "\n",
       "    .dataframe thead th {\n",
       "        text-align: right;\n",
       "    }\n",
       "</style>\n",
       "<table border=\"1\" class=\"dataframe\">\n",
       "  <thead>\n",
       "    <tr style=\"text-align: right;\">\n",
       "      <th></th>\n",
       "      <th>score</th>\n",
       "      <th>num_student</th>\n",
       "    </tr>\n",
       "  </thead>\n",
       "  <tbody>\n",
       "    <tr>\n",
       "      <th>0</th>\n",
       "      <td>11-15</td>\n",
       "      <td>15</td>\n",
       "    </tr>\n",
       "    <tr>\n",
       "      <th>1</th>\n",
       "      <td>16-20</td>\n",
       "      <td>14</td>\n",
       "    </tr>\n",
       "    <tr>\n",
       "      <th>2</th>\n",
       "      <td>21-25</td>\n",
       "      <td>20</td>\n",
       "    </tr>\n",
       "    <tr>\n",
       "      <th>3</th>\n",
       "      <td>26-30</td>\n",
       "      <td>18</td>\n",
       "    </tr>\n",
       "    <tr>\n",
       "      <th>4</th>\n",
       "      <td>31-35</td>\n",
       "      <td>16</td>\n",
       "    </tr>\n",
       "  </tbody>\n",
       "</table>\n",
       "</div>"
      ],
      "text/plain": [
       "   score  num_student\n",
       "0  11-15           15\n",
       "1  16-20           14\n",
       "2  21-25           20\n",
       "3  26-30           18\n",
       "4  31-35           16"
      ]
     },
     "execution_count": 6,
     "metadata": {},
     "output_type": "execute_result"
    }
   ],
   "source": [
    "df_score = pd.read_csv('https://raw.githubusercontent.com/ThammakornS/ProgStat/main/dataset/asm3_2_score.csv')\n",
    "df_score.head()"
   ]
  },
  {
   "cell_type": "code",
   "execution_count": 7,
   "metadata": {},
   "outputs": [
    {
     "name": "stdout",
     "output_type": "stream",
     "text": [
      "25.85\n"
     ]
    }
   ],
   "source": [
    "sp_GG = df_score.score.str.split('-', expand=True).astype(int)\n",
    "df_score['middle_value'] = (sp_GG[0] + sp_GG[1]) / 2\n",
    "df_score['fx'] = df_score.num_student * df_score.middle_value \n",
    "mean = df_score['fx'].sum() / df_score['num_student'].sum()\n",
    "print(mean)"
   ]
  },
  {
   "cell_type": "markdown",
   "metadata": {
    "id": "HyMa-rkR1ctY"
   },
   "source": [
    "**3.2.2 ค่ามัธยฐาน**"
   ]
  },
  {
   "cell_type": "code",
   "execution_count": 8,
   "metadata": {},
   "outputs": [
    {
     "data": {
      "text/html": [
       "<div>\n",
       "<style scoped>\n",
       "    .dataframe tbody tr th:only-of-type {\n",
       "        vertical-align: middle;\n",
       "    }\n",
       "\n",
       "    .dataframe tbody tr th {\n",
       "        vertical-align: top;\n",
       "    }\n",
       "\n",
       "    .dataframe thead th {\n",
       "        text-align: right;\n",
       "    }\n",
       "</style>\n",
       "<table border=\"1\" class=\"dataframe\">\n",
       "  <thead>\n",
       "    <tr style=\"text-align: right;\">\n",
       "      <th></th>\n",
       "      <th>score</th>\n",
       "      <th>num_student</th>\n",
       "      <th>middle_value</th>\n",
       "      <th>fx</th>\n",
       "      <th>student_cumsum</th>\n",
       "    </tr>\n",
       "  </thead>\n",
       "  <tbody>\n",
       "    <tr>\n",
       "      <th>0</th>\n",
       "      <td>11-15</td>\n",
       "      <td>15</td>\n",
       "      <td>13.0</td>\n",
       "      <td>195.0</td>\n",
       "      <td>15</td>\n",
       "    </tr>\n",
       "    <tr>\n",
       "      <th>1</th>\n",
       "      <td>16-20</td>\n",
       "      <td>14</td>\n",
       "      <td>18.0</td>\n",
       "      <td>252.0</td>\n",
       "      <td>29</td>\n",
       "    </tr>\n",
       "    <tr>\n",
       "      <th>2</th>\n",
       "      <td>21-25</td>\n",
       "      <td>20</td>\n",
       "      <td>23.0</td>\n",
       "      <td>460.0</td>\n",
       "      <td>49</td>\n",
       "    </tr>\n",
       "    <tr>\n",
       "      <th>3</th>\n",
       "      <td>26-30</td>\n",
       "      <td>18</td>\n",
       "      <td>28.0</td>\n",
       "      <td>504.0</td>\n",
       "      <td>67</td>\n",
       "    </tr>\n",
       "    <tr>\n",
       "      <th>4</th>\n",
       "      <td>31-35</td>\n",
       "      <td>16</td>\n",
       "      <td>33.0</td>\n",
       "      <td>528.0</td>\n",
       "      <td>83</td>\n",
       "    </tr>\n",
       "    <tr>\n",
       "      <th>5</th>\n",
       "      <td>36-40</td>\n",
       "      <td>17</td>\n",
       "      <td>38.0</td>\n",
       "      <td>646.0</td>\n",
       "      <td>100</td>\n",
       "    </tr>\n",
       "  </tbody>\n",
       "</table>\n",
       "</div>"
      ],
      "text/plain": [
       "   score  num_student  middle_value     fx  student_cumsum\n",
       "0  11-15           15          13.0  195.0              15\n",
       "1  16-20           14          18.0  252.0              29\n",
       "2  21-25           20          23.0  460.0              49\n",
       "3  26-30           18          28.0  504.0              67\n",
       "4  31-35           16          33.0  528.0              83\n",
       "5  36-40           17          38.0  646.0             100"
      ]
     },
     "metadata": {},
     "output_type": "display_data"
    },
    {
     "name": "stdout",
     "output_type": "stream",
     "text": [
      "50.0\n"
     ]
    }
   ],
   "source": [
    "df_score['student_cumsum'] = df_score['num_student'].cumsum()\n",
    "display(df_score)\n",
    "Me_posi = df_score['num_student'].sum() / 2 #50\n",
    "print(Me_posi)"
   ]
  },
  {
   "cell_type": "code",
   "execution_count": 27,
   "metadata": {
    "id": "nEOGj6cF-huH"
   },
   "outputs": [
    {
     "name": "stdout",
     "output_type": "stream",
     "text": [
      "25.77777777777778\n"
     ]
    }
   ],
   "source": [
    "e = 3 \n",
    "Le = 25.5\n",
    "median = Le + (((Me_posi - df_score.student_cumsum[e-1]) / df_score.num_student[e]) * 5)\n",
    "print(median)"
   ]
  },
  {
   "cell_type": "markdown",
   "metadata": {
    "id": "zlLBVZ0HcXUZ"
   },
   "source": [
    "**3.2.3 ค่าฐานนิยม**"
   ]
  },
  {
   "cell_type": "code",
   "execution_count": 25,
   "metadata": {
    "id": "lNYzGH_g-mQT"
   },
   "outputs": [
    {
     "name": "stdout",
     "output_type": "stream",
     "text": [
      "24.25\n"
     ]
    }
   ],
   "source": [
    "Mo_posi = 2\n",
    "Le = 20.5\n",
    "d_eminus1 = np.abs(df_score.num_student[Mo_posi] - df_score.num_student[Mo_posi - 1])\n",
    "d_eplus1 = np.abs(df_score.num_student[Mo_posi] - df_score.num_student[Mo_posi + 1])\n",
    "mode = Le + (d_eminus1 / (d_eminus1 + d_eplus1)) * 5\n",
    "print(mode)"
   ]
  },
  {
   "cell_type": "markdown",
   "metadata": {
    "id": "ONwLjc7wgtn4"
   },
   "source": [
    "**3.2.4 Q<sub>1</sub> และ Q<sub>3</sub>**"
   ]
  },
  {
   "cell_type": "code",
   "execution_count": 11,
   "metadata": {
    "id": "vRq7lL88-xAP"
   },
   "outputs": [
    {
     "name": "stdout",
     "output_type": "stream",
     "text": [
      "อยู่ในตำแหน่งที่ 25.0\n",
      "Q1 = 19.071428571428573\n"
     ]
    }
   ],
   "source": [
    "q1 = (100 * 1) / 4 \n",
    "print(\"อยู่ในตำแหน่งที่\", q1) #row ที่ 1\n",
    "Le = 15.5\n",
    "e = 1\n",
    "fe = 14\n",
    "fb = 15\n",
    "value_Q1 = Le + ((q1 - fb) / fe) * 5\n",
    "print(f\"Q1 = {value_Q1}\")\n"
   ]
  },
  {
   "cell_type": "code",
   "execution_count": 12,
   "metadata": {},
   "outputs": [
    {
     "name": "stdout",
     "output_type": "stream",
     "text": [
      "อยู่ในตำแหน่งที่ 75.0\n",
      "Q3 = 33.0\n"
     ]
    }
   ],
   "source": [
    "q3 = (100 * 3) / 4 \n",
    "print(\"อยู่ในตำแหน่งที่\", q3) #row ที่ 4\n",
    "Le = 30.5\n",
    "e = 4\n",
    "fe = 16\n",
    "fb = 67\n",
    "value_Q3 = Le + ((q3 - fb) / fe) * 5\n",
    "print(f\"Q3 = {value_Q3}\")"
   ]
  },
  {
   "cell_type": "markdown",
   "metadata": {
    "id": "eauxI2MaguGC"
   },
   "source": [
    "**3.2.5 D<sub>7</sub>**"
   ]
  },
  {
   "cell_type": "code",
   "execution_count": 13,
   "metadata": {
    "id": "IzmNQl-t-3BZ"
   },
   "outputs": [
    {
     "name": "stdout",
     "output_type": "stream",
     "text": [
      "อยู่ในตำแหน่งที่ 70.0\n",
      "D7 = 31.4375\n"
     ]
    }
   ],
   "source": [
    "d7 = (100 * 7) / 10\n",
    "print(\"อยู่ในตำแหน่งที่\", d7)\n",
    "Le = 30.5\n",
    "e = 4\n",
    "fe = 16\n",
    "fb = 67\n",
    "value_D7 = Le + ((d7 - fb) / fe) * 5\n",
    "print(f\"D7 = {value_D7}\")\n"
   ]
  },
  {
   "cell_type": "markdown",
   "metadata": {
    "id": "ULdnf-dHguZj"
   },
   "source": [
    "**3.2.6 P<sub>75</sub>**"
   ]
  },
  {
   "cell_type": "code",
   "execution_count": 14,
   "metadata": {
    "id": "XkSuR48b-56W"
   },
   "outputs": [
    {
     "name": "stdout",
     "output_type": "stream",
     "text": [
      "อยู่ในตำแหน่งที่ 75.0\n",
      "P75 = 33.0\n"
     ]
    }
   ],
   "source": [
    "p75 = (100 * 75) / 100\n",
    "print(\"อยู่ในตำแหน่งที่\", p75) #row ที่ 4\n",
    "Le = 30.5\n",
    "e = 4\n",
    "fe = 16\n",
    "fb = 67\n",
    "value_p75 = Le + ((p75 - fb) / fe) * 5\n",
    "print(f\"P75 = {value_p75}\")"
   ]
  },
  {
   "cell_type": "markdown",
   "metadata": {
    "id": "V8tD6c5Cgu8S"
   },
   "source": [
    "**3.2.7 พิสัย**"
   ]
  },
  {
   "cell_type": "code",
   "execution_count": 15,
   "metadata": {
    "id": "LTk6xNrm-7qZ"
   },
   "outputs": [
    {
     "name": "stdout",
     "output_type": "stream",
     "text": [
      "พิสัยมีค่าเท่ากับ 30.0\n"
     ]
    }
   ],
   "source": [
    "print(f\"พิสัยมีค่าเท่ากับ {40.5 - 10.5}\")"
   ]
  },
  {
   "cell_type": "markdown",
   "metadata": {
    "id": "9MkVinDAgvJx"
   },
   "source": [
    "**3.2.8 ส่วนเบี่ยงเบนควอร์ไทล์**"
   ]
  },
  {
   "cell_type": "code",
   "execution_count": 16,
   "metadata": {
    "id": "iG85sDHu-9eP"
   },
   "outputs": [
    {
     "name": "stdout",
     "output_type": "stream",
     "text": [
      "6.9642857142857135\n"
     ]
    }
   ],
   "source": [
    "q_d = (value_Q3 - value_Q1) / 2\n",
    "print(q_d)"
   ]
  },
  {
   "cell_type": "markdown",
   "metadata": {
    "id": "iQ82vURdgvXp"
   },
   "source": [
    "**3.2.9 ส่วนเบี่ยงเบนมาตราฐานและความแปรปรวน**"
   ]
  },
  {
   "cell_type": "code",
   "execution_count": 17,
   "metadata": {
    "id": "3XKKNhKE-_iZ"
   },
   "outputs": [
    {
     "name": "stdout",
     "output_type": "stream",
     "text": [
      "S = 8.356180800805918\n",
      "S^2 = 69.82575757575744\n"
     ]
    }
   ],
   "source": [
    "sum_fx2 = sum((df_score.num_student * (df_score.middle_value)**2))\n",
    "sd = np.sqrt((sum_fx2 - (100 * (mean ** 2))) / 99)\n",
    "print(f\"S = {sd}\")\n",
    "\n",
    "variance = sd ** 2\n",
    "print(f\"S^2 = {variance}\")\n"
   ]
  },
  {
   "cell_type": "markdown",
   "metadata": {
    "id": "34_0j7kTgvlZ"
   },
   "source": [
    "**3.2.10 สัมประสิทธิ์ของการแปรผัน**"
   ]
  },
  {
   "cell_type": "code",
   "execution_count": 18,
   "metadata": {
    "id": "Av4_wtGo_E_P"
   },
   "outputs": [
    {
     "name": "stdout",
     "output_type": "stream",
     "text": [
      "C.V. = 32.32565106694746\n"
     ]
    }
   ],
   "source": [
    "c_v = sd * 100 / mean\n",
    "print(f\"C.V. = {c_v}\")"
   ]
  },
  {
   "cell_type": "markdown",
   "metadata": {
    "id": "UOIZ8YfAT1yH"
   },
   "source": [
    "###   "
   ]
  },
  {
   "cell_type": "markdown",
   "metadata": {
    "id": "yRFqnZpMUMow"
   },
   "source": [
    "3.3 บริษัทเกมแห่งหนึ่งได้ทำการทดสอบ game engine รุ่นใหม่ ในคอมพิวเตอร์ที่มีส่วนประกอบของฮารด์แวร์ต่างๆกัน (เช่น cpu, gpu, ram, ฯลฯ) จำนวน 30 เครื่อง และทำการวัดค่า frames per second (FPS) ได้ผลดังนี้  \n",
    "60.0, 30.2, 33.4, 59.9, 40.1, 25.5, 17.4, 28.6, 45.5, 57.8,  \n",
    "22.5, 50.2, 30.8, 43.1, 50.5, 35.5, 27.4, 29.2, 55.5, 10.2,   \n",
    "32.2, 27.8, 33.8, 53.4, 25.5, 30.4, 36.1, 49.3, 18.6, 50.0   \n",
    "จงคำนวณหาค่าเฉลี่ย, ส่วนเบี่ยงเบนมาตราฐาน, ฐานนิยม, Q<sub>1</sub>, D<sub>3</sub>, P<sub>45</sub> ของค่า FPS ที่ได้จากการทดสอบ"
   ]
  },
  {
   "cell_type": "markdown",
   "metadata": {
    "id": "RrpgMvIVZMAO"
   },
   "source": [
    "ค่าเฉลี่ย:"
   ]
  },
  {
   "cell_type": "code",
   "execution_count": 19,
   "metadata": {
    "id": "nNZsstOK2kWT"
   },
   "outputs": [],
   "source": [
    "fps = [60.0, 30.2, 33.4, 59.9, 40.1, 25.5, 17.4, 28.6, 45.5, 57.8,\n",
    "       22.5, 50.2, 30.8, 43.1, 50.5, 35.5, 27.4, 29.2, 55.5, 10.2,\n",
    "       32.2, 27.8, 33.8, 53.4, 25.5, 30.4, 36.1, 49.3, 18.6, 50.0]"
   ]
  },
  {
   "cell_type": "code",
   "execution_count": 20,
   "metadata": {
    "id": "WNGFpJJZ_Ne_"
   },
   "outputs": [
    {
     "name": "stdout",
     "output_type": "stream",
     "text": [
      "37.01333333333333\n"
     ]
    }
   ],
   "source": [
    "print(np.mean(fps))"
   ]
  },
  {
   "cell_type": "markdown",
   "metadata": {
    "id": "9rKC0-TGZ1Jn"
   },
   "source": [
    "ส่วนเบี่ยงเบนมาตราฐาน:"
   ]
  },
  {
   "cell_type": "code",
   "execution_count": 21,
   "metadata": {
    "id": "7c5z5X4n_P-J"
   },
   "outputs": [
    {
     "name": "stdout",
     "output_type": "stream",
     "text": [
      "13.51187812906528\n"
     ]
    }
   ],
   "source": [
    "print(np.std(fps, ddof=1))"
   ]
  },
  {
   "cell_type": "markdown",
   "metadata": {
    "id": "XuKipkyhaKVO"
   },
   "source": [
    "ฐานนิยม:"
   ]
  },
  {
   "cell_type": "code",
   "execution_count": 22,
   "metadata": {
    "id": "epv26Wo-_RRn"
   },
   "outputs": [
    {
     "name": "stdout",
     "output_type": "stream",
     "text": [
      "[25.5]\n"
     ]
    }
   ],
   "source": [
    "print(statistics.multimode(fps))"
   ]
  },
  {
   "cell_type": "markdown",
   "metadata": {
    "id": "jeBwd1pdaa-T"
   },
   "source": [
    "Q<sub>1</sub>, D<sub>3</sub> และ P<sub>45</sub>:  "
   ]
  },
  {
   "cell_type": "code",
   "execution_count": 23,
   "metadata": {
    "id": "z2iA5ocP_neI"
   },
   "outputs": [
    {
     "name": "stdout",
     "output_type": "stream",
     "text": [
      "Q1 = 27.7\n",
      "Q3 = 50.05\n",
      "P45 = 32.13\n"
     ]
    }
   ],
   "source": [
    "print(f\"Q1 = {np.percentile(fps, 25, method='weibull')}\")\n",
    "print(f\"Q3 = {np.percentile(fps, 75, method='weibull')}\")\n",
    "print(f\"P45 = {np.percentile(fps, 45, method='weibull')}\")"
   ]
  },
  {
   "cell_type": "markdown",
   "metadata": {
    "id": "rOM3ES47mEaR"
   },
   "source": [
    "###   "
   ]
  },
  {
   "cell_type": "markdown",
   "metadata": {
    "id": "m97H7Z-bmBn5"
   },
   "source": [
    "3.4 หน่วยงานวิจัยแห่งหนึ่งได้รับมอบหมายจากทางรัฐบาลให้ทำการเปรียบเทียบระบบที่ใช้ในการผลิตพลังงานกระแสไฟฟ้าสำหรับนิคมอุตสาหกรรมแห่งหนึ่ง ระบบแรกมีกำลังการผลิตสูงสุด 10,000 เมกะวัตต์ โดยมีค่าเฉลี่ยและส่วนเบี่ยงเบนมาตราฐานของกำลังการผลิตอยู่ที่ 9,000±320 เมกะวัตต์ ระบบที่สองมีกำลังการผลิตสูงสุด 15,000 เมกะวัตต์ โดยมีค่าเฉลี่ยและส่วนเบี่ยงเบนมาตราฐานของกำลังการผลิตอยู่ที่ 14,000±900 เมกะวัตต์ จากข้อมูลนี้ทางสถาบันวิจัยจะสามารถสรุปว่าระบบใดมีกำลังการผลิตที่เที่ยงตรงกว่า\n",
    "\n"
   ]
  },
  {
   "cell_type": "code",
   "execution_count": 24,
   "metadata": {
    "id": "sikR8p5n_uTl"
   },
   "outputs": [
    {
     "name": "stdout",
     "output_type": "stream",
     "text": [
      "C.V.ของระบบที่ 1 = 3.5555555555555554\n",
      "C.V.ของระบบที่ 2 = 6.428571428571429\n",
      "ระบบที่ 1 เที่ยงตรงกว่า\n"
     ]
    }
   ],
   "source": [
    "sys1_cv = 320 * 100 / 9000\n",
    "sys2_cv = 900 * 100 / 14000\n",
    "print(f\"C.V.ของระบบที่ 1 = {sys1_cv}\")\n",
    "print(f\"C.V.ของระบบที่ 2 = {sys2_cv}\")\n",
    "print(f\"ระบบที่ {1 if sys2_cv > sys1_cv else 2} เที่ยงตรงกว่า\")"
   ]
  }
 ],
 "metadata": {
  "colab": {
   "authorship_tag": "ABX9TyMZkgg6cX4D3srnmlxfSAbZ",
   "mount_file_id": "1reItrD0_POUn-SXv-Qbl4kTRSs8XEJJ6",
   "provenance": []
  },
  "kernelspec": {
   "display_name": "pstat13",
   "language": "python",
   "name": "python3"
  },
  "language_info": {
   "codemirror_mode": {
    "name": "ipython",
    "version": 3
   },
   "file_extension": ".py",
   "mimetype": "text/x-python",
   "name": "python",
   "nbconvert_exporter": "python",
   "pygments_lexer": "ipython3",
   "version": "3.13.0"
  }
 },
 "nbformat": 4,
 "nbformat_minor": 0
}
